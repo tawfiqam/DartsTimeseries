{
 "cells": [
  {
   "cell_type": "code",
   "execution_count": 5,
   "metadata": {
    "ExecuteTime": {
     "end_time": "2020-07-08T02:51:02.831869Z",
     "start_time": "2020-07-08T02:50:55.916343Z"
    }
   },
   "outputs": [
    {
     "name": "stdout",
     "output_type": "stream",
     "text": [
      "Cloning into 'darts'...\n",
      "remote: Enumerating objects: 3936, done.\u001b[K\n",
      "remote: Total 3936 (delta 0), reused 0 (delta 0), pack-reused 3936\u001b[K\n",
      "Receiving objects: 100% (3936/3936), 18.53 MiB | 3.19 MiB/s, done.\n",
      "Resolving deltas: 100% (2617/2617), done.\n"
     ]
    }
   ],
   "source": [
    "!git clone https://github.com/unit8co/darts"
   ]
  },
  {
   "cell_type": "code",
   "execution_count": null,
   "metadata": {},
   "outputs": [],
   "source": []
  }
 ],
 "metadata": {
  "kernelspec": {
   "display_name": "Python 3",
   "language": "python",
   "name": "python3"
  },
  "language_info": {
   "codemirror_mode": {
    "name": "ipython",
    "version": 3
   },
   "file_extension": ".py",
   "mimetype": "text/x-python",
   "name": "python",
   "nbconvert_exporter": "python",
   "pygments_lexer": "ipython3",
   "version": "3.7.7"
  }
 },
 "nbformat": 4,
 "nbformat_minor": 4
}
